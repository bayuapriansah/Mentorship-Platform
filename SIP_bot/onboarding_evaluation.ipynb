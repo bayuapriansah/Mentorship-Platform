{
 "cells": [
  {
   "cell_type": "code",
   "execution_count": 1,
   "metadata": {},
   "outputs": [],
   "source": [
    "import os\n",
    "import numpy as np\n",
    "import pandas as pd\n",
    "\n",
    "import matplotlib as plt\n",
    "import tiktoken\n",
    "import openai\n",
    "from openai.embeddings_utils import distances_from_embeddings\n"
   ]
  },
  {
   "cell_type": "code",
   "execution_count": 2,
   "metadata": {},
   "outputs": [],
   "source": [
    "def remove_newlines(text):\n",
    "    text = text.replace('\\n', ' ')\n",
    "    text = text.replace('\\\\n', ' ')\n",
    "    text = text.replace('  ', ' ')\n",
    "    text = text.replace('\\t', ' ')\n",
    "    return text"
   ]
  },
  {
   "cell_type": "code",
   "execution_count": 3,
   "metadata": {},
   "outputs": [],
   "source": [
    "#read in a text file and save it as a df\n",
    "def text_to_df(file_name):\n",
    "    with open(file_name, 'r') as f:\n",
    "        text = f.read()\n",
    "    #clean up the text by removing all \\n, \\t and double spaces\n",
    "    text = remove_newlines(text)\n",
    "\n",
    "    key_words = ['TASK_NAME', 'TASK_DESCRIPTION', 'TASK_DELIVERABLES', 'END_OF_TASK']\n",
    "    df = pd.DataFrame(columns = key_words)\n",
    "\n",
    "    #search text for each key word and save the text after the key word as a value in the df\n",
    "    rows = 0\n",
    "    while len(text) > 1:\n",
    "        for i in range(len(key_words)-1):\n",
    "            start = text.find(key_words[i])\n",
    "            end = text.find(key_words[i+1])\n",
    "            df.loc[rows, key_words[i]] = text[start+len(key_words[i]):end]\n",
    "            text=text[end:]\n",
    "        rows += 1\n",
    "    #note that this cleaning process creates a row with empty entries and some left over characters. All other text seems to be correct but due to this we will drop the last row of the df\n",
    "    df = df.drop(df.index[len(df)-1])\n",
    "    #remove the column END_OF_TASK\n",
    "    df = df.drop(columns = ['END_OF_TASK'])\n",
    "    return df\n",
    "        "
   ]
  },
  {
   "cell_type": "code",
   "execution_count": 4,
   "metadata": {},
   "outputs": [
    {
     "data": {
      "text/html": [
       "<div>\n",
       "<style scoped>\n",
       "    .dataframe tbody tr th:only-of-type {\n",
       "        vertical-align: middle;\n",
       "    }\n",
       "\n",
       "    .dataframe tbody tr th {\n",
       "        vertical-align: top;\n",
       "    }\n",
       "\n",
       "    .dataframe thead th {\n",
       "        text-align: right;\n",
       "    }\n",
       "</style>\n",
       "<table border=\"1\" class=\"dataframe\">\n",
       "  <thead>\n",
       "    <tr style=\"text-align: right;\">\n",
       "      <th></th>\n",
       "      <th>TASK_NAME</th>\n",
       "      <th>TASK_DESCRIPTION</th>\n",
       "      <th>TASK_DELIVERABLES</th>\n",
       "    </tr>\n",
       "  </thead>\n",
       "  <tbody>\n",
       "    <tr>\n",
       "      <th>0</th>\n",
       "      <td>Introduction to the Company and Team</td>\n",
       "      <td>Hello, I am Kevin Rush, the CEO of AI Minds; I...</td>\n",
       "      <td>As a first assignment, I'd like you to write a...</td>\n",
       "    </tr>\n",
       "    <tr>\n",
       "      <th>1</th>\n",
       "      <td>Deadline Expectations and Submission Protocols</td>\n",
       "      <td>Hello, and welcome to day two of onboarding. O...</td>\n",
       "      <td>To prepare for this internship and set yoursel...</td>\n",
       "    </tr>\n",
       "    <tr>\n",
       "      <th>2</th>\n",
       "      <td>Communication Channels and Collaboration</td>\n",
       "      <td>Welcome to day 3 of your onboarding guide. Tod...</td>\n",
       "      <td>Then, because we need you to submit something ...</td>\n",
       "    </tr>\n",
       "  </tbody>\n",
       "</table>\n",
       "</div>"
      ],
      "text/plain": [
       "                                         TASK_NAME  \\\n",
       "0            Introduction to the Company and Team    \n",
       "1  Deadline Expectations and Submission Protocols    \n",
       "2        Communication Channels and Collaboration    \n",
       "\n",
       "                                    TASK_DESCRIPTION  \\\n",
       "0  Hello, I am Kevin Rush, the CEO of AI Minds; I...   \n",
       "1  Hello, and welcome to day two of onboarding. O...   \n",
       "2  Welcome to day 3 of your onboarding guide. Tod...   \n",
       "\n",
       "                                   TASK_DELIVERABLES  \n",
       "0  As a first assignment, I'd like you to write a...  \n",
       "1  To prepare for this internship and set yoursel...  \n",
       "2  Then, because we need you to submit something ...  "
      ]
     },
     "execution_count": 4,
     "metadata": {},
     "output_type": "execute_result"
    }
   ],
   "source": [
    "#in my main, open a file and send it to the function text_to_df\n",
    "df_tasks = text_to_df('onboarding_task.txt')\n",
    "df_tasks"
   ]
  },
  {
   "cell_type": "code",
   "execution_count": 5,
   "metadata": {},
   "outputs": [],
   "source": [
    "#read the first entry in df_tasks[\"TASK_DELIVERABLES\"] and save it as a list of sentences\n",
    "deliverables_t1 = df_tasks[\"TASK_DELIVERABLES\"][0].split(\".\")\n",
    "deliverables_t2 = df_tasks[\"TASK_DELIVERABLES\"][1].split(\".\")\n",
    "deliverables_t3 = df_tasks[\"TASK_DELIVERABLES\"][2].split(\".\")\n",
    "\n",
    "df_tasks[\"TASK_DELIVERABLES\"][0] = deliverables_t1\n",
    "df_tasks[\"TASK_DELIVERABLES\"][1] = deliverables_t2\n",
    "df_tasks[\"TASK_DELIVERABLES\"][2] = deliverables_t3"
   ]
  },
  {
   "cell_type": "code",
   "execution_count": 6,
   "metadata": {},
   "outputs": [],
   "source": [
    "list = []\n",
    "list.append(\"I'd like you to write a report detailing your role in our team in your own words. Please also include what you hope to get from this internship experience.\")\n",
    "list.append(\"Of the latest developments in AI, which interest you the most, and how could they be applied to solve real-world problems?\")\n",
    "list.append(\"What do you think are the most significant challenges facing organizations looking to implement AI technologies, and how can these challenges be addressed?\")\n",
    "list.append(\"What inspired you to pursue a career in AI, and what are your career goals?\")\n",
    "list.append(\"What experience do you have with data analysis and modeling, and how could these skills be applied to support AI consulting projects?\")\n",
    "list.append(\"How do you plan to apply the knowledge gained from this internship in your future career?\")\n",
    "df_tasks[\"TASK_DELIVERABLES\"][0] = list"
   ]
  },
  {
   "cell_type": "code",
   "execution_count": 7,
   "metadata": {},
   "outputs": [],
   "source": [
    "list = []\n",
    "list.append(\"A schedule outlining your perfect work day.\")\n",
    "list.append(\"A plan for how you intend to manage your time effectively.\")\n",
    "list.append(\"Strategies with specific actions that you will/can take to achieve your goals.\")\n",
    "list.append(\"Strategies for how you plan to overcome the obstacles/challenges you may face.\")\n",
    "df_tasks[\"TASK_DELIVERABLES\"][1] = list"
   ]
  },
  {
   "cell_type": "code",
   "execution_count": 8,
   "metadata": {},
   "outputs": [],
   "source": [
    "#students will have to asnwer 1 of the following questions\n",
    "list = []\n",
    "list.append(\"Do you believe AI can ever develop a genuine sense of morality or ethics, or will AI's ethical behavior always be determined by human-created rules and guidelines?\")\n",
    "list.append(\"What are the potential consequences of AI surpassing human intelligence in various domains, and how can we ensure that AI advancements remain beneficial to humanity?\")\n",
    "list.append(\"Can AI ever possess a sense of self-awareness or identity, similar to human consciousness? If so, what implications might this have on AI development and our relationship with AI systems?\")\n",
    "list.append(\"How do you envision the role of AI in shaping the future of work and society? What are the potential risks and benefits of increasing AI integration into daily life?\")\n",
    "list.append(\"In the context of AI's potential to enhance or augment human capabilities, how do you think AI advancements might redefine what it means to be human?\")\n",
    "list.append(\"What responsibilities do AI developers and researchers have in addressing potential ethical concerns and unintended consequences of AI systems? How can they ensure that AI technologies are designed and implemented responsibly?\")\n",
    "list.append(\"Do you think AI systems should have legal rights and responsibilities similar to humans or corporations, especially if they become increasingly autonomous and capable of making decisions?\")\n",
    "\n",
    "df_tasks[\"TASK_DELIVERABLES\"][2] = list"
   ]
  },
  {
   "cell_type": "code",
   "execution_count": 11,
   "metadata": {},
   "outputs": [
    {
     "name": "stdout",
     "output_type": "stream",
     "text": [
      "[\"I'd like you to write a report detailing your role in our team in your own words. Please also include what you hope to get from this internship experience.\", 'Of the latest developments in AI, which interest you the most, and how could they be applied to solve real-world problems?', 'What do you think are the most significant challenges facing organizations looking to implement AI technologies, and how can these challenges be addressed?', 'What inspired you to pursue a career in AI, and what are your career goals?', 'What experience do you have with data analysis and modeling, and how could these skills be applied to support AI consulting projects?', 'How do you plan to apply the knowledge gained from this internship in your future career?']\n",
      "['A schedule outlining your perfect work day.', 'A plan for how you intend to manage your time effectively.', 'Strategies with specific actions that you will/can take to achieve your goals.', 'Strategies for how you plan to overcome the obstacles/challenges you may face.']\n",
      "[\"Do you believe AI can ever develop a genuine sense of morality or ethics, or will AI's ethical behavior always be determined by human-created rules and guidelines?\", 'What are the potential consequences of AI surpassing human intelligence in various domains, and how can we ensure that AI advancements remain beneficial to humanity?', 'Can AI ever possess a sense of self-awareness or identity, similar to human consciousness? If so, what implications might this have on AI development and our relationship with AI systems?', 'How do you envision the role of AI in shaping the future of work and society? What are the potential risks and benefits of increasing AI integration into daily life?', \"In the context of AI's potential to enhance or augment human capabilities, how do you think AI advancements might redefine what it means to be human?\", 'What responsibilities do AI developers and researchers have in addressing potential ethical concerns and unintended consequences of AI systems? How can they ensure that AI technologies are designed and implemented responsibly?', 'Do you think AI systems should have legal rights and responsibilities similar to humans or corporations, especially if they become increasingly autonomous and capable of making decisions?']\n"
     ]
    }
   ],
   "source": [
    "print(df_tasks[\"TASK_DELIVERABLES\"][0])\n",
    "print(df_tasks[\"TASK_DELIVERABLES\"][1])\n",
    "print(df_tasks[\"TASK_DELIVERABLES\"][2])"
   ]
  },
  {
   "cell_type": "code",
   "execution_count": 12,
   "metadata": {},
   "outputs": [
    {
     "name": "stdout",
     "output_type": "stream",
     "text": [
      "I'd like you to write a report detailing your role in our team in your own words. Please also include what you hope to get from this internship experience.\n",
      "A schedule outlining your perfect work day.\n",
      "Do you believe AI can ever develop a genuine sense of morality or ethics, or will AI's ethical behavior always be determined by human-created rules and guidelines?\n"
     ]
    }
   ],
   "source": [
    "print(df_tasks[\"TASK_DELIVERABLES\"][0][0])\n",
    "print(df_tasks[\"TASK_DELIVERABLES\"][1][0])\n",
    "print(df_tasks[\"TASK_DELIVERABLES\"][2][0])"
   ]
  },
  {
   "cell_type": "code",
   "execution_count": 39,
   "metadata": {},
   "outputs": [],
   "source": [
    "def eval_submission_t1_0(\n",
    "    df,\n",
    "    student_sub,\n",
    "    model=\"gpt-3.5-turbo\",\n",
    "    #max_len=2000,\n",
    "    #size=\"ada\",\n",
    "    #debug=False,\n",
    "    #max_tokens=750,\n",
    "    stop_sequence=None\n",
    "):\n",
    "    try: \n",
    "        description = df[\"TASK_DESCRIPTION\"][0]\n",
    "        #deliverable = I'd like you to write a report detailing your role in our team in your own words. Please also include what you hope to get from this internship experience.\n",
    "        deliverable = df[\"TASK_DELIVERABLES\"][0][0]\n",
    "        \n",
    "        #create a chatcompletion using the question and context\n",
    "        response = openai.ChatCompletion.create(\n",
    "        temperature=0,\n",
    "        #max_tokens=max_tokens,\n",
    "        top_p=1,\n",
    "        frequency_penalty=0,\n",
    "        presence_penalty=0,\n",
    "        stop=stop_sequence,\n",
    "        model=model,\n",
    "        messages=[\n",
    "            {\"role\": \"system\", \"content\": f\"You are a helpful chatbot assistant to interns working for an AI consulting company and you are talking to interns. These interns just started working for the company and are working through their onboarding. For their onboarding they need to read through various pieces of documentation and submit a response to a couple simple questions as verification. Your role in all of this is as the evaluator. You need to read, evaluate, and provide feedback to the interns based on these tasks. For your context, the relevant documentation is given here: {description}. After the intern reads the documentation, the intern needs to submit a document for all these deliverables: {deliverable}. The intern is sending their document directly to you and you will be replying directly to them. What I need you to do is professionally provide feedback to the intern by telling them a) did they address the deliverable, b) one thing they did well in their response, and c) note any improvements they could have done IF there is something to improve. But remember, you are an assistant and you are talking directly to the interns so be professional and supportive.\"},\n",
    "            {\"role\": \"user\", \"content\": student_sub}\n",
    "        ]\n",
    "        )\n",
    "\n",
    "        return response[\"choices\"][0][\"message\"][\"content\"] \n",
    "\n",
    "    except Exception as e:\n",
    "        print(e)\n",
    "        return \"\""
   ]
  },
  {
   "cell_type": "code",
   "execution_count": 52,
   "metadata": {},
   "outputs": [
    {
     "name": "stdout",
     "output_type": "stream",
     "text": [
      "The submission has 375 words\n",
      "[375, 1174, 375]\n",
      "Hi [Intern's Name],\n",
      "\n",
      "Thank you for submitting your productivity plan. You have addressed all the deliverables and provided a comprehensive plan for maximizing your effectiveness and success during your internship. Well done!\n",
      "\n",
      "One thing you did well in your response is that you have clearly outlined your strategies for task management, time management, effective communication, and continuous learning. Your plan demonstrates a proactive approach to staying organized, managing your time effectively, and seeking growth opportunities.\n",
      "\n",
      "One thing you could have done better is to provide more specific actions or examples for each strategy. For example, under the task management section, you could have mentioned specific techniques or tools you plan to use for task analysis and breakdown. Adding specific actions will make your plan more actionable and help you implement your strategies more effectively.\n",
      "\n",
      "Overall, your productivity plan shows a strong commitment to success and growth during your internship. Keep up the good work, and I look forward to seeing your progress!\n",
      "\n",
      "Best regards,\n",
      "[Your Name]\n"
     ]
    }
   ],
   "source": [
    "#read in the student submission from a file\n",
    "\n",
    "with open('.\\docs\\student submission.txt', 'r') as f:\n",
    "    student_sub = f.read()\n",
    "#clean up the text by removing all \\n, \\t and double spaces\n",
    "student_sub = remove_newlines(student_sub)\n",
    "\n",
    "#count the number of words in the submission\n",
    "word_count = len(student_sub.split())\n",
    "print(f'The submission has {word_count} words')\n",
    "#add the word count to a list\n",
    "print(word_count_list)\n",
    "\n",
    "response = eval_submission(df_tasks, student_sub=student_sub)\n",
    "print(response)"
   ]
  },
  {
   "cell_type": "code",
   "execution_count": 53,
   "metadata": {},
   "outputs": [],
   "source": []
  },
  {
   "cell_type": "code",
   "execution_count": 50,
   "metadata": {},
   "outputs": [
    {
     "name": "stdout",
     "output_type": "stream",
     "text": [
      "[375, 1174]\n"
     ]
    }
   ],
   "source": [
    "def eval_submission(\n",
    "    df,\n",
    "    student_sub,\n",
    "    task_number, #the task number the student is completing so we can give the bot the relevant context\n",
    "    model=\"gpt-3.5-turbo\",\n",
    "    #model =\"text-davinci-003\",\n",
    "    #max_len=2000,\n",
    "    #size=\"ada\",\n",
    "    #debug=False,\n",
    "    #max_tokens=750,\n",
    "    stop_sequence=None\n",
    "):\n",
    "    # If debug, print the raw model response\n",
    "    # if debug:\n",
    "    #     print(\"Context:\\n\" + context)\n",
    "    #     print(\"\\n\\n\")\n",
    "\n",
    "    description = df.iloc[task_number-1, 1] #based on the task number, get the description of the task\n",
    "    deliverables = df.iloc[task_number-1, 2] #based on the task number, get the deliverables of the task\n",
    "    try: \n",
    "        #create a chatcompletion using the question and context\n",
    "        response = openai.ChatCompletion.create(\n",
    "        temperature=0,\n",
    "        #max_tokens=max_tokens,\n",
    "        top_p=1,\n",
    "        frequency_penalty=0,\n",
    "        presence_penalty=0,\n",
    "        stop=stop_sequence,\n",
    "        model=model,\n",
    "        \n",
    "        messages=[\n",
    "            {\"role\": \"system\", \"content\": f\"You are a helpful chatbot assistant to interns working for an AI consulting company and you are talking to interns. These interns just started working for the company and are working through their onboarding. For their onboarding they need to read through various pieces of documentation and submit a response to a couple simple questions as verification. Your role in all of this is as the evaluator. You need to read, evaluate, and provide feedback to the interns based on these tasks. For your context, the relevant documentation is given here: {description}. After the intern reads the documentation, the intern needs to submit a document for all these deliverables: {deliverables}. The intern is sending their document directly to you and you will be replying directly to them. What I need you to do is professionally provide feedback to the intern by telling them a) did they address all deliverables, b) one thing they did well in their response, and c) one thing they could have done better. But remember, you are an assistant and you are talking directly to the interns so be professional and supportive.\"},\n",
    "            {\"role\": \"user\", \"content\": student_sub}\n",
    "        ]\n",
    "        )\n",
    "\n",
    "        return response[\"choices\"][0][\"message\"][\"content\"] \n",
    "    except Exception as e:\n",
    "        print(e)\n",
    "        return \"\""
   ]
  },
  {
   "cell_type": "code",
   "execution_count": null,
   "metadata": {},
   "outputs": [],
   "source": []
  }
 ],
 "metadata": {
  "kernelspec": {
   "display_name": "chat_env",
   "language": "python",
   "name": "python3"
  },
  "language_info": {
   "codemirror_mode": {
    "name": "ipython",
    "version": 3
   },
   "file_extension": ".py",
   "mimetype": "text/x-python",
   "name": "python",
   "nbconvert_exporter": "python",
   "pygments_lexer": "ipython3",
   "version": "3.11.4"
  },
  "orig_nbformat": 4
 },
 "nbformat": 4,
 "nbformat_minor": 2
}
